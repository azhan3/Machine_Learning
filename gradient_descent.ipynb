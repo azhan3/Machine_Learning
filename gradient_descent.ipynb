{
 "cells": [
  {
   "cell_type": "code",
   "execution_count": null,
   "metadata": {},
   "outputs": [],
   "source": [
    "import numpy as np\n",
    "\n",
    "X, Y = np.loadtxt(\"temp.txt\", skiprows=1, unpack=True)\n",
    "\n"
   ]
  },
  {
   "cell_type": "code",
   "execution_count": null,
   "metadata": {},
   "outputs": [],
   "source": [
    "X"
   ]
  },
  {
   "cell_type": "code",
   "execution_count": null,
   "metadata": {},
   "outputs": [],
   "source": [
    "Y"
   ]
  },
  {
   "cell_type": "code",
   "execution_count": null,
   "metadata": {},
   "outputs": [],
   "source": [
    "%matplotlib inline\n",
    "\n",
    "import matplotlib.pyplot as plt\n",
    "plt.xlabel(\"Temperature\", fontsize=20)  \n",
    "plt.ylabel(\"AC Bill\", fontsize=20)        \n",
    "plt.axis([0, 50, 0, 50])                 \n",
    "plt.plot(X, Y, \"bo\")                    \n",
    "plt.show()    "
   ]
  },
  {
   "cell_type": "code",
   "execution_count": null,
   "metadata": {},
   "outputs": [],
   "source": [
    "def predict(X, w, b):\n",
    "    return X * w + b"
   ]
  },
  {
   "cell_type": "code",
   "execution_count": null,
   "metadata": {},
   "outputs": [],
   "source": [
    "def loss(X, Y, w, b):\n",
    "    predictions = predict(X, w, b)\n",
    "    return np.average((predictions - Y) ** 2)"
   ]
  },
  {
   "cell_type": "code",
   "execution_count": null,
   "metadata": {},
   "outputs": [],
   "source": [
    "import matplotlib.pyplot as plt\n",
    "\n",
    "%matplotlib inline\n",
    "\n",
    "weights = np.linspace(-1.0, 4.0, 200)\n",
    "losses = [loss(X, Y, w, 0) for w in weights]\n",
    "\n",
    "plt.axis([-1, 4, 0, 1000])\n",
    "plt.xticks(fontsize=15)\n",
    "plt.yticks(fontsize=15)\n",
    "plt.xlabel(\"Weight\")\n",
    "plt.ylabel(\"Loss\")\n",
    "plt.plot(weights, losses, color=\"black\")\n",
    "\n",
    "plt.show()"
   ]
  },
  {
   "cell_type": "code",
   "execution_count": null,
   "metadata": {},
   "outputs": [],
   "source": [
    "from matplotlib import cm\n",
    "from mpl_toolkits.mplot3d import Axes3D\n",
    "\n",
    "MESH_SIZE = 50\n",
    "weights = np.linspace(-1, 4, MESH_SIZE)\n",
    "biases = np.linspace(-20, 20, MESH_SIZE)\n",
    "W, B = np.meshgrid(weights, biases)\n",
    "losses = np.array([loss(X, Y, w, b) for w, b in zip(np.ravel(W), np.ravel(B))])\n",
    "L = losses.reshape((MESH_SIZE, MESH_SIZE))\n",
    "\n",
    "ax = plt.figure().add_subplot(projection='3d')\n",
    "ax.set_xlabel(\"Weight\", labelpad=15)\n",
    "ax.set_ylabel(\"Bias\", labelpad=15)\n",
    "ax.set_zlabel(\"Loss\", labelpad=15)\n",
    "ax.plot_surface(W, B, L, cmap=cm.gnuplot, antialiased=True)\n",
    "\n",
    "plt.show()"
   ]
  },
  {
   "attachments": {},
   "cell_type": "markdown",
   "metadata": {},
   "source": [
    "We want to implement gradient descent–and algorithm that descends the gradient of this curve. First, let's write a function to calculate the gradient. In mathematical formula, the loss looks like this:\n",
    "\n",
    "\\begin{align*}\n",
    "L = \\frac{1}{m}\\sum\\limits_{i} ((wx_i + b) - y_i) ^ 2\n",
    "\\end{align*}\n",
    "\n",
    "The gradient of this loss is the composition of the derivatives of `L` with respect to `w` and `b`. If you know calculus, then you can calculate those derivatives on your own. If you don't, then here they are:\n",
    "\n",
    "\\begin{align*}\n",
    "\\frac{\\partial L}{\\partial w} = \\frac{2}{m}\\sum\\limits_{i} x((wx_i + b) - y_i)\n",
    "\\end{align*}\n",
    "\n",
    "\\begin{align*}\n",
    "\\frac{\\partial L}{\\partial b} = \\frac{2}{m}\\sum\\limits_{i} ((wx_i + b) - y_i)\n",
    "\\end{align*}\n"
   ]
  },
  {
   "cell_type": "code",
   "execution_count": null,
   "metadata": {},
   "outputs": [],
   "source": [
    "def gradient(X, Y, w, b):\n",
    "    w_gradient = np.average(2 * X * (predict(X, w, b) - Y))\n",
    "    b_gradient = np.average(2 * (predict(X, w, b) - Y))\n",
    "    return (w_gradient, b_gradient)"
   ]
  },
  {
   "cell_type": "code",
   "execution_count": null,
   "metadata": {},
   "outputs": [],
   "source": [
    "gradient(X, Y, 2, 3)"
   ]
  },
  {
   "cell_type": "code",
   "execution_count": null,
   "metadata": {},
   "outputs": [],
   "source": [
    "def train(X, Y, iterations, lr):\n",
    "    w = b = 0\n",
    "    for i in range(iterations):\n",
    "        print(\"Iteration %4d => Loss: %.6f\" % (i, loss(X, Y, w, b)))\n",
    "        w_gradient, b_gradient = gradient(X, Y, w, b)\n",
    "        w -= w_gradient * lr\n",
    "        b -= b_gradient * lr\n",
    "    return w, b"
   ]
  },
  {
   "cell_type": "code",
   "execution_count": null,
   "metadata": {},
   "outputs": [],
   "source": [
    "w, b = train(X, Y, 1000, 0.001)"
   ]
  },
  {
   "cell_type": "code",
   "execution_count": null,
   "metadata": {},
   "outputs": [],
   "source": [
    "plt.xlabel(\"Temperature\", fontsize=20)\n",
    "plt.ylabel(\"AC Bill\", fontsize=20)\n",
    "plt.axis([0, 50, 0, 50])\n",
    "plt.plot(X, Y, \"bo\")\n",
    "\n",
    "\n",
    "plt.plot([0, 50], [b, predict(50, w, b)], color=\"g\")\n",
    "\n",
    "\n",
    "plt.show()"
   ]
  },
  {
   "cell_type": "code",
   "execution_count": null,
   "metadata": {},
   "outputs": [],
   "source": [
    "w       "
   ]
  },
  {
   "cell_type": "code",
   "execution_count": null,
   "metadata": {},
   "outputs": [],
   "source": [
    "b"
   ]
  },
  {
   "cell_type": "code",
   "execution_count": null,
   "metadata": {},
   "outputs": [],
   "source": [
    "print(f\"{predict(50, w, b):.2f}\")"
   ]
  },
  {
   "cell_type": "code",
   "execution_count": null,
   "metadata": {},
   "outputs": [],
   "source": [
    "loss(X, Y, 1.7805243401160904, 7.670145815852669)"
   ]
  },
  {
   "cell_type": "code",
   "execution_count": null,
   "metadata": {},
   "outputs": [],
   "source": [
    "loss(X, Y, 1.7785274268011809640, 7.70459795978127600)"
   ]
  },
  {
   "cell_type": "code",
   "execution_count": null,
   "metadata": {},
   "outputs": [],
   "source": [
    "loss(X, Y, 1.77852131569351566470, 7.704703392881088960)"
   ]
  }
 ],
 "metadata": {
  "kernelspec": {
   "display_name": "Python 3",
   "language": "python",
   "name": "python3"
  },
  "language_info": {
   "codemirror_mode": {
    "name": "ipython",
    "version": 3
   },
   "file_extension": ".py",
   "mimetype": "text/x-python",
   "name": "python",
   "nbconvert_exporter": "python",
   "pygments_lexer": "ipython3",
   "version": "3.8.10"
  },
  "orig_nbformat": 4,
  "vscode": {
   "interpreter": {
    "hash": "31f2aee4e71d21fbe5cf8b01ff0e069b9275f58929596ceb00d14d90e3e16cd6"
   }
  }
 },
 "nbformat": 4,
 "nbformat_minor": 2
}
