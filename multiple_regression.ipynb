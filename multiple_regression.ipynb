{
 "cells": [
  {
   "cell_type": "code",
   "execution_count": 4,
   "metadata": {},
   "outputs": [],
   "source": [
    "import numpy as np\n",
    "\n",
    "x1, x2, x3, y = np.loadtxt(\"cracker_barrel.txt\", skiprows=1, unpack=True)\n",
    "\n",
    "X = np.column_stack((np.ones(x1.size), x1, x2, x3))\n",
    "\n",
    "Y = y.reshape(-1, 1)"
   ]
  },
  {
   "cell_type": "code",
   "execution_count": 5,
   "metadata": {},
   "outputs": [
    {
     "data": {
      "text/plain": [
       "array([52., 17., 46., 70., 43., 60., 23., 43., 28., 31., 65., 15., 15.,\n",
       "       59., 52., 22., 68., 34., 30., 56., 50., 36., 68., 25., 38., 30.,\n",
       "       56., 19., 19., 41.])"
      ]
     },
     "execution_count": 5,
     "metadata": {},
     "output_type": "execute_result"
    }
   ],
   "source": [
    "y"
   ]
  },
  {
   "cell_type": "code",
   "execution_count": 6,
   "metadata": {},
   "outputs": [
    {
     "data": {
      "text/plain": [
       "array([[52.],\n",
       "       [17.],\n",
       "       [46.],\n",
       "       [70.],\n",
       "       [43.],\n",
       "       [60.],\n",
       "       [23.],\n",
       "       [43.],\n",
       "       [28.],\n",
       "       [31.],\n",
       "       [65.],\n",
       "       [15.],\n",
       "       [15.],\n",
       "       [59.],\n",
       "       [52.],\n",
       "       [22.],\n",
       "       [68.],\n",
       "       [34.],\n",
       "       [30.],\n",
       "       [56.],\n",
       "       [50.],\n",
       "       [36.],\n",
       "       [68.],\n",
       "       [25.],\n",
       "       [38.],\n",
       "       [30.],\n",
       "       [56.],\n",
       "       [19.],\n",
       "       [19.],\n",
       "       [41.]])"
      ]
     },
     "execution_count": 6,
     "metadata": {},
     "output_type": "execute_result"
    }
   ],
   "source": [
    "Y"
   ]
  },
  {
   "cell_type": "code",
   "execution_count": 7,
   "metadata": {},
   "outputs": [],
   "source": [
    "def predict(X, w):\n",
    "    return np.matmul(X, w);"
   ]
  },
  {
   "cell_type": "code",
   "execution_count": 8,
   "metadata": {},
   "outputs": [],
   "source": [
    "fake_weights = np.array([[0.1],\n",
    "                  [0.2],\n",
    "                  [0.3],\n",
    "                  [0.4]])"
   ]
  },
  {
   "cell_type": "code",
   "execution_count": 9,
   "metadata": {},
   "outputs": [
    {
     "data": {
      "text/plain": [
       "array([[16.2],\n",
       "       [ 7.7],\n",
       "       [13.7],\n",
       "       [15.8],\n",
       "       [12.8],\n",
       "       [21.6],\n",
       "       [11.2],\n",
       "       [ 9.3],\n",
       "       [12.9],\n",
       "       [ 9.9],\n",
       "       [13.2],\n",
       "       [ 7.4],\n",
       "       [ 5.9],\n",
       "       [12.9],\n",
       "       [10.6],\n",
       "       [ 9.6],\n",
       "       [12.1],\n",
       "       [12.3],\n",
       "       [10.5],\n",
       "       [14.8],\n",
       "       [13.4],\n",
       "       [11.3],\n",
       "       [12.1],\n",
       "       [ 8.4],\n",
       "       [ 9.5],\n",
       "       [ 9.9],\n",
       "       [11.6],\n",
       "       [ 8.3],\n",
       "       [ 7.9],\n",
       "       [11.2]])"
      ]
     },
     "execution_count": 9,
     "metadata": {},
     "output_type": "execute_result"
    }
   ],
   "source": [
    "predict(X, fake_weights)"
   ]
  },
  {
   "cell_type": "code",
   "execution_count": null,
   "metadata": {},
   "outputs": [],
   "source": [
    "def loss(X, Y, w):\n",
    "    predictions = predict(X, w)\n",
    "    return np.average((predictions - Y) ** 2)"
   ]
  },
  {
   "cell_type": "code",
   "execution_count": null,
   "metadata": {},
   "outputs": [],
   "source": [
    "loss(X, Y, fake_weights)"
   ]
  },
  {
   "cell_type": "code",
   "execution_count": null,
   "metadata": {},
   "outputs": [],
   "source": [
    "def gradient(X, Y, w):\n",
    "    return 2 * np.matmul(X.T, (predict(X, w) - Y)) / X.shape[0]"
   ]
  },
  {
   "cell_type": "code",
   "execution_count": null,
   "metadata": {},
   "outputs": [],
   "source": [
    "gradient(X, Y, fake_weights)"
   ]
  },
  {
   "cell_type": "code",
   "execution_count": null,
   "metadata": {},
   "outputs": [],
   "source": [
    "def train(X, Y, iterations, lr):\n",
    "    w = np.zeros((X.shape[1], 1))\n",
    "\n",
    "    for i in range(iterations):\n",
    "        print(\"Iteration %4d => Loss: %.20f\" % (i, loss(X, Y, w)))\n",
    "        w -= gradient(X, Y, w) * lr\n",
    "    return w"
   ]
  },
  {
   "cell_type": "code",
   "execution_count": null,
   "metadata": {},
   "outputs": [],
   "source": [
    "w = train(X, Y, iterations=100000, lr=0.001)"
   ]
  },
  {
   "cell_type": "code",
   "execution_count": null,
   "metadata": {},
   "outputs": [],
   "source": [
    "w"
   ]
  },
  {
   "cell_type": "code",
   "execution_count": null,
   "metadata": {},
   "outputs": [],
   "source": [
    "predict(X[0], w)"
   ]
  },
  {
   "cell_type": "code",
   "execution_count": null,
   "metadata": {},
   "outputs": [],
   "source": [
    "Y[0]"
   ]
  }
 ],
 "metadata": {
  "kernelspec": {
   "display_name": "Python 3",
   "language": "python",
   "name": "python3"
  },
  "language_info": {
   "codemirror_mode": {
    "name": "ipython",
    "version": 3
   },
   "file_extension": ".py",
   "mimetype": "text/x-python",
   "name": "python",
   "nbconvert_exporter": "python",
   "pygments_lexer": "ipython3",
   "version": "3.8.10"
  },
  "orig_nbformat": 4
 },
 "nbformat": 4,
 "nbformat_minor": 2
}
